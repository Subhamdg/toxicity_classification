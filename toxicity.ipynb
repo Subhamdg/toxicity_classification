{
  "nbformat": 4,
  "nbformat_minor": 0,
  "metadata": {
    "colab": {
      "name": "toxicity.ipynb",
      "version": "0.3.2",
      "provenance": [],
      "collapsed_sections": []
    },
    "kernelspec": {
      "name": "python3",
      "display_name": "Python 3"
    },
    "accelerator": "GPU"
  },
  "cells": [
    {
      "cell_type": "code",
      "metadata": {
        "id": "dFXqip-SKKs3",
        "colab_type": "code",
        "outputId": "0e13e0d5-20d6-4393-891c-a9311a1f1ca7",
        "colab": {
          "base_uri": "https://localhost:8080/",
          "height": 243
        }
      },
      "source": [
        "import os\n",
        "os.environ['KAGGLE_USERNAME']=\"subhamdg\"\n",
        "os.environ['KAGGLE_KEY']=\"02d32576f8d88270a168aa92a9f20aa6\"\n",
        "!kaggle competitions download -c jigsaw-unintended-bias-in-toxicity-classification\n",
        "!unzip train.csv.zip\n",
        "!unzip test.csv.zip'''"
      ],
      "execution_count": 1,
      "outputs": [
        {
          "output_type": "stream",
          "text": [
            "Downloading sample_submission.csv.zip to /content\n",
            "\r  0% 0.00/221k [00:00<?, ?B/s]\n",
            "100% 221k/221k [00:00<00:00, 86.1MB/s]\n",
            "Downloading test.csv.zip to /content\n",
            " 41% 5.00M/12.1M [00:00<00:00, 18.5MB/s]\n",
            "100% 12.1M/12.1M [00:00<00:00, 34.7MB/s]\n",
            "Downloading train.csv.zip to /content\n",
            " 97% 265M/273M [00:04<00:00, 67.1MB/s]\n",
            "100% 273M/273M [00:04<00:00, 68.6MB/s]\n",
            "Archive:  train.csv.zip\n",
            "  inflating: train.csv               \n",
            "/bin/bash: -c: line 0: unexpected EOF while looking for matching `''\n",
            "/bin/bash: -c: line 1: syntax error: unexpected end of file\n"
          ],
          "name": "stdout"
        }
      ]
    },
    {
      "cell_type": "code",
      "metadata": {
        "id": "MjqDZqfQN4iF",
        "colab_type": "code",
        "colab": {}
      },
      "source": [
        "import pandas as pd\n",
        "import numpy as nm\n",
        "import gensim\n",
        "import sklearn as sk\n",
        "import nltk.data\n",
        "from gensim.models import word2vec "
      ],
      "execution_count": 0,
      "outputs": []
    },
    {
      "cell_type": "code",
      "metadata": {
        "id": "eDHJ2GliONWM",
        "colab_type": "code",
        "colab": {}
      },
      "source": [
        "train=pd.read_csv('train.csv')"
      ],
      "execution_count": 0,
      "outputs": []
    },
    {
      "cell_type": "code",
      "metadata": {
        "id": "wKbLiRHuP4eR",
        "colab_type": "code",
        "outputId": "c7ad3e90-a94c-4d1e-c7cb-ccbd6025ade2",
        "colab": {
          "base_uri": "https://localhost:8080/",
          "height": 34
        }
      },
      "source": [
        "train.shape"
      ],
      "execution_count": 4,
      "outputs": [
        {
          "output_type": "execute_result",
          "data": {
            "text/plain": [
              "(1804874, 45)"
            ]
          },
          "metadata": {
            "tags": []
          },
          "execution_count": 4
        }
      ]
    },
    {
      "cell_type": "code",
      "metadata": {
        "id": "mzbUjbXgPE4n",
        "colab_type": "code",
        "colab": {}
      },
      "source": [
        "a=nm.array([])\n",
        "for i in train:\n",
        "  if((train[i].dtypes!='object')and(i!='id')):\n",
        "    a=nm.append(a,i)"
      ],
      "execution_count": 0,
      "outputs": []
    },
    {
      "cell_type": "code",
      "metadata": {
        "id": "ZfU02sE9QyWu",
        "colab_type": "code",
        "outputId": "10d64b42-f2a7-4910-ab25-c99239d29265",
        "colab": {
          "base_uri": "https://localhost:8080/",
          "height": 34
        }
      },
      "source": [
        "train['target'].isnull().sum()"
      ],
      "execution_count": 6,
      "outputs": [
        {
          "output_type": "execute_result",
          "data": {
            "text/plain": [
              "0"
            ]
          },
          "metadata": {
            "tags": []
          },
          "execution_count": 6
        }
      ]
    },
    {
      "cell_type": "code",
      "metadata": {
        "id": "-Cn6HNozRdPw",
        "colab_type": "code",
        "outputId": "7b44ec81-f06c-49ba-fc40-65630a3b530f",
        "colab": {
          "base_uri": "https://localhost:8080/",
          "height": 72
        }
      },
      "source": [
        "from sklearn.preprocessing import Imputer as imp\n",
        "im = imp(missing_values='NaN',strategy='median',axis=0)  \n",
        "for i in a:\n",
        "  train[i]=im.fit_transform(train[[i]]).ravel()"
      ],
      "execution_count": 7,
      "outputs": [
        {
          "output_type": "stream",
          "text": [
            "/usr/local/lib/python3.6/dist-packages/sklearn/utils/deprecation.py:66: DeprecationWarning: Class Imputer is deprecated; Imputer was deprecated in version 0.20 and will be removed in 0.22. Import impute.SimpleImputer from sklearn instead.\n",
            "  warnings.warn(msg, category=DeprecationWarning)\n"
          ],
          "name": "stderr"
        }
      ]
    },
    {
      "cell_type": "code",
      "metadata": {
        "id": "HOnIV8j5T7a6",
        "colab_type": "code",
        "colab": {}
      },
      "source": [
        "from sklearn.preprocessing import LabelEncoder as lb\n",
        "ab=lb()\n",
        "train['rating']= ab.fit_transform(train['rating'])"
      ],
      "execution_count": 0,
      "outputs": []
    },
    {
      "cell_type": "code",
      "metadata": {
        "id": "tP1OtGF8hLh3",
        "colab_type": "code",
        "outputId": "808fad83-da31-42d4-8777-abec96fe3b72",
        "colab": {
          "base_uri": "https://localhost:8080/",
          "height": 89
        }
      },
      "source": [
        "a=nm.array([])\n",
        "a=train['comment_text'].as_matrix()\n",
        "type(a)"
      ],
      "execution_count": 9,
      "outputs": [
        {
          "output_type": "stream",
          "text": [
            "/usr/local/lib/python3.6/dist-packages/ipykernel_launcher.py:2: FutureWarning: Method .as_matrix will be removed in a future version. Use .values instead.\n",
            "  \n"
          ],
          "name": "stderr"
        },
        {
          "output_type": "execute_result",
          "data": {
            "text/plain": [
              "numpy.ndarray"
            ]
          },
          "metadata": {
            "tags": []
          },
          "execution_count": 9
        }
      ]
    },
    {
      "cell_type": "code",
      "metadata": {
        "id": "0_gfbPVr_jWK",
        "colab_type": "code",
        "outputId": "76a236ca-8f65-47b5-8b7d-38b65b31a2d1",
        "colab": {
          "base_uri": "https://localhost:8080/",
          "height": 34
        }
      },
      "source": [
        "import keras\n",
        "from keras.preprocessing import text\n",
        "from keras.preprocessing import sequence as sq\n",
        "from keras.models import load_model"
      ],
      "execution_count": 10,
      "outputs": [
        {
          "output_type": "stream",
          "text": [
            "Using TensorFlow backend.\n"
          ],
          "name": "stderr"
        }
      ]
    },
    {
      "cell_type": "code",
      "metadata": {
        "id": "ASxzEWWKBlQi",
        "colab_type": "code",
        "outputId": "eb776ef8-9bae-4c01-dc55-9372c555fd5c",
        "colab": {
          "base_uri": "https://localhost:8080/",
          "height": 52
        }
      },
      "source": [
        "\n",
        "!unzip test.csv.zip\n",
        "test=pd.read_csv('test.csv')"
      ],
      "execution_count": 11,
      "outputs": [
        {
          "output_type": "stream",
          "text": [
            "Archive:  test.csv.zip\n",
            "  inflating: test.csv                \n"
          ],
          "name": "stdout"
        }
      ]
    },
    {
      "cell_type": "code",
      "metadata": {
        "id": "H2w8nCR5B8tN",
        "colab_type": "code",
        "colab": {}
      },
      "source": [
        "#!unzip sample_submission.csv.zip"
      ],
      "execution_count": 0,
      "outputs": []
    },
    {
      "cell_type": "code",
      "metadata": {
        "id": "7ewNL-z0CI7Z",
        "colab_type": "code",
        "colab": {}
      },
      "source": [
        "train_x=train['comment_text']\n",
        "train_y=train['target'].values\n",
        "test_x=test['comment_text']\n"
      ],
      "execution_count": 0,
      "outputs": []
    },
    {
      "cell_type": "code",
      "metadata": {
        "id": "a-UhtkwQC8uK",
        "colab_type": "code",
        "colab": {}
      },
      "source": [
        "vec = text.Tokenizer()\n",
        "vec.fit_on_texts(list(train_x) + list(test_x))\n",
        "train_x = vec.texts_to_sequences(train_x)\n",
        "test_x = vec.texts_to_sequences(test_x)\n"
      ],
      "execution_count": 0,
      "outputs": []
    },
    {
      "cell_type": "code",
      "metadata": {
        "id": "jbc26AiJDufS",
        "colab_type": "code",
        "colab": {
          "base_uri": "https://localhost:8080/",
          "height": 34
        },
        "outputId": "cfecf9e3-ea79-409b-9e5f-2658528c2422"
      },
      "source": [
        "train_x = sq.pad_sequences(train_x, maxlen=250)\n",
        "test_x = sq.pad_sequences(test_x, maxlen=250)\n",
        "maxi=len(vec.word_index)+1\n",
        "maxi"
      ],
      "execution_count": 15,
      "outputs": [
        {
          "output_type": "execute_result",
          "data": {
            "text/plain": [
              "410047"
            ]
          },
          "metadata": {
            "tags": []
          },
          "execution_count": 15
        }
      ]
    },
    {
      "cell_type": "code",
      "metadata": {
        "id": "hDup2hb0HN16",
        "colab_type": "code",
        "colab": {}
      },
      "source": [
        "class Toxicity:\n",
        "    def __init__(self):\n",
        "        self.model = self.build_graph()\n",
        "        self.compile_model()\n",
        "    def build_graph(self):\n",
        "        model = keras.models.Sequential([keras.layers.Embedding(maxi,256),keras.layers.CuDNNLSTM(256),keras.layers.Dropout(rate=0.15),keras.layers.Dense(1, activation=\"sigmoid\")])\n",
        "        return model    \n",
        "    def compile_model(self):\n",
        "        self.model.compile(loss='binary_crossentropy',optimizer='adam',metrics=[\"accuracy\"])"
      ],
      "execution_count": 0,
      "outputs": []
    },
    {
      "cell_type": "code",
      "metadata": {
        "id": "eMbuCGAYMfny",
        "colab_type": "code",
        "colab": {
          "base_uri": "https://localhost:8080/",
          "height": 816
        },
        "outputId": "2c7d7864-1296-4d74-c62d-b642685b6aec"
      },
      "source": [
        "train.dtypes"
      ],
      "execution_count": 17,
      "outputs": [
        {
          "output_type": "execute_result",
          "data": {
            "text/plain": [
              "id                                       int64\n",
              "target                                 float64\n",
              "comment_text                            object\n",
              "severe_toxicity                        float64\n",
              "obscene                                float64\n",
              "identity_attack                        float64\n",
              "insult                                 float64\n",
              "threat                                 float64\n",
              "asian                                  float64\n",
              "atheist                                float64\n",
              "bisexual                               float64\n",
              "black                                  float64\n",
              "buddhist                               float64\n",
              "christian                              float64\n",
              "female                                 float64\n",
              "heterosexual                           float64\n",
              "hindu                                  float64\n",
              "homosexual_gay_or_lesbian              float64\n",
              "intellectual_or_learning_disability    float64\n",
              "jewish                                 float64\n",
              "latino                                 float64\n",
              "male                                   float64\n",
              "muslim                                 float64\n",
              "other_disability                       float64\n",
              "other_gender                           float64\n",
              "other_race_or_ethnicity                float64\n",
              "other_religion                         float64\n",
              "other_sexual_orientation               float64\n",
              "physical_disability                    float64\n",
              "psychiatric_or_mental_illness          float64\n",
              "transgender                            float64\n",
              "white                                  float64\n",
              "created_date                            object\n",
              "publication_id                         float64\n",
              "parent_id                              float64\n",
              "article_id                             float64\n",
              "rating                                   int64\n",
              "funny                                  float64\n",
              "wow                                    float64\n",
              "sad                                    float64\n",
              "likes                                  float64\n",
              "disagree                               float64\n",
              "sexual_explicit                        float64\n",
              "identity_annotator_count               float64\n",
              "toxicity_annotator_count               float64\n",
              "dtype: object"
            ]
          },
          "metadata": {
            "tags": []
          },
          "execution_count": 17
        }
      ]
    },
    {
      "cell_type": "code",
      "metadata": {
        "id": "UT0tgjCQdBJ4",
        "colab_type": "code",
        "colab": {
          "base_uri": "https://localhost:8080/",
          "height": 263
        },
        "outputId": "8f91119f-e402-412d-88e6-b0ad32681447"
      },
      "source": [
        "model=Toxicity().model\n",
        "model.model.fit(train_x,train_y,batch_size=512,epochs=4)"
      ],
      "execution_count": 26,
      "outputs": [
        {
          "output_type": "stream",
          "text": [
            "/usr/local/lib/python3.6/dist-packages/keras/engine/sequential.py:110: UserWarning: `Sequential.model` is deprecated. `Sequential` is a subclass of `Model`, you can just use your `Sequential` instance directly.\n",
            "  warnings.warn('`Sequential.model` is deprecated. '\n",
            "/usr/local/lib/python3.6/dist-packages/tensorflow/python/ops/gradients_util.py:90: UserWarning: Converting sparse IndexedSlices to a dense Tensor with 104972032 elements. This may consume a large amount of memory.\n",
            "  num_elements)\n"
          ],
          "name": "stderr"
        },
        {
          "output_type": "stream",
          "text": [
            "Epoch 1/4\n",
            "1804874/1804874 [==============================] - 778s 431us/step - loss: 0.2428 - acc: 0.7006\n",
            "Epoch 2/4\n",
            "1804874/1804874 [==============================] - 778s 431us/step - loss: 0.2301 - acc: 0.7011\n",
            "Epoch 3/4\n",
            "1804874/1804874 [==============================] - 779s 432us/step - loss: 0.2235 - acc: 0.7014\n",
            "Epoch 4/4\n",
            "1804874/1804874 [==============================] - 780s 432us/step - loss: 0.2164 - acc: 0.7018\n"
          ],
          "name": "stdout"
        },
        {
          "output_type": "execute_result",
          "data": {
            "text/plain": [
              "<keras.callbacks.History at 0x7f6834146c18>"
            ]
          },
          "metadata": {
            "tags": []
          },
          "execution_count": 26
        }
      ]
    },
    {
      "cell_type": "code",
      "metadata": {
        "id": "h1L9NFuzIivd",
        "colab_type": "code",
        "colab": {
          "base_uri": "https://localhost:8080/",
          "height": 72
        },
        "outputId": "f78d26fa-8b0d-4f9f-9cc4-1374e347ad84"
      },
      "source": [
        "sub1=model.model.predict(test_x)"
      ],
      "execution_count": 27,
      "outputs": [
        {
          "output_type": "stream",
          "text": [
            "/usr/local/lib/python3.6/dist-packages/keras/engine/sequential.py:110: UserWarning: `Sequential.model` is deprecated. `Sequential` is a subclass of `Model`, you can just use your `Sequential` instance directly.\n",
            "  warnings.warn('`Sequential.model` is deprecated. '\n"
          ],
          "name": "stderr"
        }
      ]
    },
    {
      "cell_type": "code",
      "metadata": {
        "id": "kp0uXMbXI8VS",
        "colab_type": "code",
        "colab": {}
      },
      "source": [
        "jk=test['id'].values\n",
        "sub=pd.DataFrame()\n",
        "sub['id']=jk\n",
        "sub['prediction']=sub1"
      ],
      "execution_count": 0,
      "outputs": []
    },
    {
      "cell_type": "code",
      "metadata": {
        "id": "ZxDF7j-UUSGb",
        "colab_type": "code",
        "colab": {}
      },
      "source": [
        "sub.to_csv('submission.csv',index=False)"
      ],
      "execution_count": 0,
      "outputs": []
    },
    {
      "cell_type": "markdown",
      "metadata": {
        "id": "AObxleoN5pl2",
        "colab_type": "text"
      },
      "source": [
        ""
      ]
    },
    {
      "cell_type": "code",
      "metadata": {
        "id": "yWMCE3K8I8za",
        "colab_type": "code",
        "colab": {
          "base_uri": "https://localhost:8080/",
          "height": 54
        },
        "outputId": "585698b5-a60d-425d-8e2e-d08136412004"
      },
      "source": [
        "'''k=nm.array([])\n",
        "res=nm.array([])\n",
        "for i in train:\n",
        "    for j in train:\n",
        "      if((j!='target')and(j!='comment_text')and(j!='id')):\n",
        "        model = Toxicity().model\n",
        "        model.fit(train_x,train[j].values,batch_size=1000,epochs=1)\n",
        "        sub = motest_yedict(test_x)\n",
        "        res=nm.append(j,sub)\n",
        "    k=nm.append(k,res,axis=1)'''\n",
        "#This kernel is not yet prepared will upload it as soon as it is done :)\n"
      ],
      "execution_count": 23,
      "outputs": [
        {
          "output_type": "execute_result",
          "data": {
            "text/plain": [
              "\"k=nm.array([])\\nres=nm.array([])\\nfor i in train:\\n    for j in train:\\n      if((j!='target')and(j!='comment_text')and(j!='id')):\\n        model = Toxicity().model\\n        model.fit(train_x,train[j].values,batch_size=1000,epochs=1)\\n        sub = motest_yedict(test_x)\\n        res=nm.append(j,sub)\\n    k=nm.append(k,res,axis=1)\""
            ]
          },
          "metadata": {
            "tags": []
          },
          "execution_count": 23
        }
      ]
    }
  ]
}